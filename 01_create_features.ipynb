{
 "cells": [
  {
   "cell_type": "code",
   "execution_count": 2,
   "metadata": {
    "collapsed": false,
    "deletable": true,
    "editable": true
   },
   "outputs": [],
   "source": [
    "from __future__ import division\n",
    "\n",
    "import pandas as pd\n",
    "import numpy as np\n",
    "import graphlab as gl\n",
    "import xgboost as xgb\n",
    "\n",
    "# import string\n",
    "\n",
    "import datetime\n",
    "\n",
    "%matplotlib inline"
   ]
  },
  {
   "cell_type": "code",
   "execution_count": 3,
   "metadata": {
    "collapsed": false,
    "deletable": true,
    "editable": true
   },
   "outputs": [],
   "source": [
    "train = gl.load_sframe('train_lists.gl')\n",
    "test  = gl.load_sframe('test_lists.gl')"
   ]
  },
  {
   "cell_type": "code",
   "execution_count": 1,
   "metadata": {
    "collapsed": false,
    "deletable": true,
    "editable": true
   },
   "outputs": [],
   "source": [
    "def lower_identical(text1, text2):\n",
    "    return text1.lower() == text2.lower()\n",
    "\n",
    "\n",
    "def generate_features_from_lists(list1, list2):\n",
    "    set1 = set(list1)\n",
    "    set2 = set(list2)\n",
    "    \n",
    "    feature0 = len(list1)\n",
    "    feature1 = len(list2)\n",
    "\n",
    "    feature2 = len(set1)\n",
    "    feature3 = len(set2)    \n",
    "    \n",
    "    feature4 = len(set1 & set2)\n",
    "    feature5 = len(set1 | set2)\n",
    "    feature6 = feature4 / max(feature5, 1)\n",
    "    \n",
    "    feature7 = sum(len(e) for e in list1) / max(feature0, 1)\n",
    "    feature8 = sum(len(e) for e in list2) / max(feature1, 1)\n",
    "    \n",
    "    if feature0 == feature1:\n",
    "        feature9 = (list1 == list2)\n",
    "    else:\n",
    "        feature9 = False\n",
    "    \n",
    "    return gl.SArray([feature0,\n",
    "                      feature1,\n",
    "                      feature2,\n",
    "                      feature3,\n",
    "                      feature4,\n",
    "                      feature5,\n",
    "                      feature6,\n",
    "                      feature7,\n",
    "                      feature8,\n",
    "                      feature9])\n",
    "\n",
    "features = {\n",
    "    'X.0' : '#_of_words1',\n",
    "    'X.1' : '#_of_words2',\n",
    "    \n",
    "    'X.2' : '#_of_unique_words1',\n",
    "    'X.3' : '#_of_unique_words2',\n",
    "    \n",
    "    'X.4' : '#_of_words_in_intersection',\n",
    "    'X.5' : '#_of_words_in_union',\n",
    "    'X.6' : 'jaccard_similarity',\n",
    "    \n",
    "    'X.7' : 'average_word_length1',\n",
    "    'X.8' : 'average_word_length2',\n",
    "    \n",
    "    'X.9' : 'lists_identical'\n",
    "}\n",
    "\n",
    "features_no_stops = {\n",
    "    'X.0' : '#_of_words_no_stops1',\n",
    "    'X.1' : '#_of_words_no_stops2',\n",
    "    \n",
    "    'X.2' : '#_of_unique_words_no_stops1',\n",
    "    'X.3' : '#_of_unique_words_no_stops2',\n",
    "    \n",
    "    'X.4' : '#_of_words_in_intersection_no_stops',\n",
    "    'X.5' : '#_of_words_in_union_no_stops',\n",
    "    'X.6' : 'jaccard_similarity_no_stops',\n",
    "    \n",
    "    'X.7' : 'average_word_length_no_stops1',\n",
    "    'X.8' : 'average_word_length_no_stops2',\n",
    "    \n",
    "    'X.9' : 'lists_identical_no_stops'\n",
    "}\n",
    "\n",
    "feature_names = features.values() + features_no_stops.values() + ['lower_identical']"
   ]
  },
  {
   "cell_type": "code",
   "execution_count": 3,
   "metadata": {
    "collapsed": false
   },
   "outputs": [
    {
     "data": {
      "text/plain": [
       "['#_of_words2',\n",
       " '#_of_words1',\n",
       " '#_of_unique_words2',\n",
       " '#_of_unique_words1',\n",
       " '#_of_words_in_union',\n",
       " '#_of_words_in_intersection',\n",
       " 'average_word_length1',\n",
       " 'jaccard_similarity',\n",
       " 'lists_identical',\n",
       " 'average_word_length2',\n",
       " '#_of_words_no_stops2',\n",
       " '#_of_words_no_stops1',\n",
       " '#_of_unique_words_no_stops2',\n",
       " '#_of_unique_words_no_stops1',\n",
       " '#_of_words_in_union_no_stops',\n",
       " '#_of_words_in_intersection_no_stops',\n",
       " 'average_word_length_no_stops1',\n",
       " 'jaccard_similarity_no_stops',\n",
       " 'lists_identical_no_stops',\n",
       " 'average_word_length_no_stops2',\n",
       " 'lower_identical']"
      ]
     },
     "execution_count": 3,
     "metadata": {},
     "output_type": "execute_result"
    }
   ],
   "source": [
    "feature_names"
   ]
  },
  {
   "cell_type": "code",
   "execution_count": 5,
   "metadata": {
    "collapsed": false,
    "deletable": true,
    "editable": true
   },
   "outputs": [],
   "source": [
    "result = train.apply(lambda row : generate_features_from_lists(row['word_list1'],\n",
    "                                                               row['word_list2'])).unpack()\n",
    "train.add_columns(result.rename(features))\n",
    "\n",
    "result = train.apply(lambda row : generate_features_from_lists(row['word_list_no_stops1'],\n",
    "                                                               row['word_list_no_stops2'])).unpack()\n",
    "train.add_columns(result.rename(features_no_stops))\n",
    "train['lower_identical'] = train.apply(lambda row: lower_identical(row['question1'], row['question2']))"
   ]
  },
  {
   "cell_type": "code",
   "execution_count": 6,
   "metadata": {
    "collapsed": false,
    "deletable": true,
    "editable": true
   },
   "outputs": [],
   "source": [
    "result = test.apply(lambda row : generate_features_from_lists(row['word_list1'],\n",
    "                                                              row['word_list2'])).unpack()\n",
    "test.add_columns(result.rename(features))\n",
    "\n",
    "result = test.apply(lambda row : generate_features_from_lists(row['word_list_no_stops1'],\n",
    "                                                              row['word_list_no_stops2'])).unpack()\n",
    "test.add_columns(result.rename(features_no_stops))\n",
    "test['lower_identical'] = test.apply(lambda row: lower_identical(row['question1'], row['question2']))"
   ]
  },
  {
   "cell_type": "code",
   "execution_count": null,
   "metadata": {
    "collapsed": true,
    "deletable": true,
    "editable": true
   },
   "outputs": [],
   "source": [
    "# train[feature_names].save('train_features.gl')\n",
    "# test[feature_names].save('test_features.gl')"
   ]
  }
 ],
 "metadata": {
  "kernelspec": {
   "display_name": "Python 2",
   "language": "python",
   "name": "python2"
  },
  "language_info": {
   "codemirror_mode": {
    "name": "ipython",
    "version": 2
   },
   "file_extension": ".py",
   "mimetype": "text/x-python",
   "name": "python",
   "nbconvert_exporter": "python",
   "pygments_lexer": "ipython2",
   "version": "2.7.12"
  }
 },
 "nbformat": 4,
 "nbformat_minor": 1
}
