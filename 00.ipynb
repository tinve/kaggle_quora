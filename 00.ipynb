{
 "cells": [
  {
   "cell_type": "code",
   "execution_count": 1,
   "metadata": {
    "collapsed": false,
    "deletable": true,
    "editable": true
   },
   "outputs": [],
   "source": [
    "from __future__ import division\n",
    "\n",
    "import pandas as pd\n",
    "import numpy as np\n",
    "# import matplotlib.pyplot as plt\n",
    "# import seaborn as sns\n",
    "import xgboost as xgb\n",
    "import tqdm\n",
    "import string\n",
    "\n",
    "from nltk.corpus import stopwords # Import the stop word list\n",
    "\n",
    "%matplotlib inline"
   ]
  },
  {
   "cell_type": "code",
   "execution_count": 2,
   "metadata": {
    "collapsed": false,
    "deletable": true,
    "editable": true
   },
   "outputs": [
    {
     "name": "stdout",
     "output_type": "stream",
     "text": [
      "<class 'pandas.core.frame.DataFrame'>\n",
      "RangeIndex: 404290 entries, 0 to 404289\n",
      "Data columns (total 3 columns):\n",
      "question1       404290 non-null object\n",
      "question2       404290 non-null object\n",
      "is_duplicate    404290 non-null int64\n",
      "dtypes: int64(1), object(2)\n",
      "memory usage: 9.3+ MB\n"
     ]
    }
   ],
   "source": [
    "train = pd.read_csv('train.csv')\n",
    "train.drop(['id', 'qid1', 'qid2'], axis = 1, inplace = True)\n",
    "train.fillna('', inplace = True)\n",
    "train.info()"
   ]
  },
  {
   "cell_type": "code",
   "execution_count": 3,
   "metadata": {
    "collapsed": false,
    "deletable": true,
    "editable": true
   },
   "outputs": [
    {
     "data": {
      "text/html": [
       "<div>\n",
       "<table border=\"1\" class=\"dataframe\">\n",
       "  <thead>\n",
       "    <tr style=\"text-align: right;\">\n",
       "      <th></th>\n",
       "      <th>question1</th>\n",
       "      <th>question2</th>\n",
       "      <th>is_duplicate</th>\n",
       "    </tr>\n",
       "  </thead>\n",
       "  <tbody>\n",
       "    <tr>\n",
       "      <th>0</th>\n",
       "      <td>What is the step by step guide to invest in sh...</td>\n",
       "      <td>What is the step by step guide to invest in sh...</td>\n",
       "      <td>0</td>\n",
       "    </tr>\n",
       "    <tr>\n",
       "      <th>1</th>\n",
       "      <td>What is the story of Kohinoor (Koh-i-Noor) Dia...</td>\n",
       "      <td>What would happen if the Indian government sto...</td>\n",
       "      <td>0</td>\n",
       "    </tr>\n",
       "    <tr>\n",
       "      <th>2</th>\n",
       "      <td>How can I increase the speed of my internet co...</td>\n",
       "      <td>How can Internet speed be increased by hacking...</td>\n",
       "      <td>0</td>\n",
       "    </tr>\n",
       "    <tr>\n",
       "      <th>3</th>\n",
       "      <td>Why am I mentally very lonely? How can I solve...</td>\n",
       "      <td>Find the remainder when [math]23^{24}[/math] i...</td>\n",
       "      <td>0</td>\n",
       "    </tr>\n",
       "    <tr>\n",
       "      <th>4</th>\n",
       "      <td>Which one dissolve in water quikly sugar, salt...</td>\n",
       "      <td>Which fish would survive in salt water?</td>\n",
       "      <td>0</td>\n",
       "    </tr>\n",
       "  </tbody>\n",
       "</table>\n",
       "</div>"
      ],
      "text/plain": [
       "                                           question1  \\\n",
       "0  What is the step by step guide to invest in sh...   \n",
       "1  What is the story of Kohinoor (Koh-i-Noor) Dia...   \n",
       "2  How can I increase the speed of my internet co...   \n",
       "3  Why am I mentally very lonely? How can I solve...   \n",
       "4  Which one dissolve in water quikly sugar, salt...   \n",
       "\n",
       "                                           question2  is_duplicate  \n",
       "0  What is the step by step guide to invest in sh...             0  \n",
       "1  What would happen if the Indian government sto...             0  \n",
       "2  How can Internet speed be increased by hacking...             0  \n",
       "3  Find the remainder when [math]23^{24}[/math] i...             0  \n",
       "4            Which fish would survive in salt water?             0  "
      ]
     },
     "execution_count": 3,
     "metadata": {},
     "output_type": "execute_result"
    }
   ],
   "source": [
    "train.head()"
   ]
  },
  {
   "cell_type": "code",
   "execution_count": 4,
   "metadata": {
    "collapsed": false,
    "deletable": true,
    "editable": true
   },
   "outputs": [
    {
     "name": "stdout",
     "output_type": "stream",
     "text": [
      "<class 'pandas.core.frame.DataFrame'>\n",
      "RangeIndex: 2345796 entries, 0 to 2345795\n",
      "Data columns (total 2 columns):\n",
      "question1    object\n",
      "question2    object\n",
      "dtypes: object(2)\n",
      "memory usage: 35.8+ MB\n"
     ]
    }
   ],
   "source": [
    "test = pd.read_csv('test.csv')\n",
    "ids = test['test_id']\n",
    "test.drop(['test_id'], axis = 1, inplace = True)\n",
    "test.fillna('', inplace = True)\n",
    "test.info()"
   ]
  },
  {
   "cell_type": "code",
   "execution_count": 5,
   "metadata": {
    "collapsed": false,
    "deletable": true,
    "editable": true
   },
   "outputs": [
    {
     "data": {
      "text/html": [
       "<div>\n",
       "<table border=\"1\" class=\"dataframe\">\n",
       "  <thead>\n",
       "    <tr style=\"text-align: right;\">\n",
       "      <th></th>\n",
       "      <th>question1</th>\n",
       "      <th>question2</th>\n",
       "    </tr>\n",
       "  </thead>\n",
       "  <tbody>\n",
       "    <tr>\n",
       "      <th>0</th>\n",
       "      <td>How does the Surface Pro himself 4 compare wit...</td>\n",
       "      <td>Why did Microsoft choose core m3 and not core ...</td>\n",
       "    </tr>\n",
       "    <tr>\n",
       "      <th>1</th>\n",
       "      <td>Should I have a hair transplant at age 24? How...</td>\n",
       "      <td>How much cost does hair transplant require?</td>\n",
       "    </tr>\n",
       "    <tr>\n",
       "      <th>2</th>\n",
       "      <td>What but is the best way to send money from Ch...</td>\n",
       "      <td>What you send money to China?</td>\n",
       "    </tr>\n",
       "    <tr>\n",
       "      <th>3</th>\n",
       "      <td>Which food not emulsifiers?</td>\n",
       "      <td>What foods fibre?</td>\n",
       "    </tr>\n",
       "    <tr>\n",
       "      <th>4</th>\n",
       "      <td>How \"aberystwyth\" start reading?</td>\n",
       "      <td>How their can I start reading?</td>\n",
       "    </tr>\n",
       "  </tbody>\n",
       "</table>\n",
       "</div>"
      ],
      "text/plain": [
       "                                           question1  \\\n",
       "0  How does the Surface Pro himself 4 compare wit...   \n",
       "1  Should I have a hair transplant at age 24? How...   \n",
       "2  What but is the best way to send money from Ch...   \n",
       "3                        Which food not emulsifiers?   \n",
       "4                   How \"aberystwyth\" start reading?   \n",
       "\n",
       "                                           question2  \n",
       "0  Why did Microsoft choose core m3 and not core ...  \n",
       "1        How much cost does hair transplant require?  \n",
       "2                      What you send money to China?  \n",
       "3                                  What foods fibre?  \n",
       "4                     How their can I start reading?  "
      ]
     },
     "execution_count": 5,
     "metadata": {},
     "output_type": "execute_result"
    }
   ],
   "source": [
    "test.head()"
   ]
  },
  {
   "cell_type": "code",
   "execution_count": 6,
   "metadata": {
    "collapsed": false,
    "deletable": true,
    "editable": true
   },
   "outputs": [],
   "source": [
    "def text_to_word_sets( raw_text ):\n",
    "    # Convert to lower case\n",
    "    words = raw_text.lower()\n",
    "    # Replace punctuation with spaces\n",
    "    words = words.translate(string.maketrans(string.punctuation,' '*len(string.punctuation))) \n",
    "    # Split into individual words, convert into set\n",
    "    words = set(words.split())\n",
    "    #  In Python, searching a set is much faster than searching\n",
    "    #  a list, so convert the stop words to a set\n",
    "    stops = set(stopwords.words(\"english\"))                  \n",
    "    # Remove stop words\n",
    "    return pd.Series([words, words - stops])\n",
    "\n",
    "def text_to_word_lists( raw_text ):\n",
    "    # Convert to lower case\n",
    "    words = raw_text.lower()\n",
    "    # Replace punctuation with spaces\n",
    "    words = words.translate(string.maketrans(string.punctuation,' '*len(string.punctuation))) \n",
    "    # Split into individual words, convert into set\n",
    "    words = words.split()\n",
    "    #  In Python, searching a set is much faster than searching\n",
    "    #  a list, so convert the stop words to a set\n",
    "    stops = set(stopwords.words(\"english\"))                  \n",
    "    # Remove stop words\n",
    "    return pd.Series([words, [w for w in words if not w in stops]])\n",
    "\n",
    "def generate_features_from_sets(set1, set2):\n",
    "    feature1 = len(set1)\n",
    "    feature2 = len(set2)\n",
    "    \n",
    "    feature3 = len(set1 & set2)\n",
    "    feature4 = len(set1 | set2)\n",
    "    feature5 = feature3 / max(feature4, 1)\n",
    "    \n",
    "    feature6 = sum(len(e) for e in set1) / max(len(set1), 1)\n",
    "    feature7 = sum(len(e) for e in set2) / max(len(set2), 1)\n",
    "    \n",
    "    return pd.Series([feature1, feature2, feature3, feature4, feature5, feature6, feature7])\n",
    "\n",
    "features_from_sets = [\n",
    "    '# of words 1',\n",
    "    '# of words 2',\n",
    "    '# of words in intersection',\n",
    "    '# of words in union',\n",
    "    'jaccard similarity',\n",
    "    'average word length 1',\n",
    "    'average word length 2'\n",
    "]\n",
    "\n",
    "all_features = features_from_sets"
   ]
  },
  {
   "cell_type": "code",
   "execution_count": 7,
   "metadata": {
    "collapsed": false,
    "deletable": true,
    "editable": true
   },
   "outputs": [
    {
     "name": "stdout",
     "output_type": "stream",
     "text": [
      "Astrology: I am a Capricorn Sun Cap moon and cap rising...what does that say about me?\n",
      "I'm a triple Capricorn (Sun, Moon and ascendant in Capricorn) What does this say about me? \n",
      "\n",
      "set(['a', 'and', 'what', 'that', 'i', 'sun', 'cap', 'am', 'about', 'me', 'moon', 'capricorn', 'say', 'does', 'rising', 'astrology'])\n",
      "['astrology', 'i', 'am', 'a', 'capricorn', 'sun', 'cap', 'moon', 'and', 'cap', 'rising', 'what', 'does', 'that', 'say', 'about', 'me']\n",
      "set(['a', 'and', 'what', 'that', 'i', 'sun', 'cap', 'am', 'about', 'me', 'moon', 'capricorn', 'say', 'does', 'rising', 'astrology'])\n",
      "['i', 'm', 'a', 'triple', 'capricorn', 'sun', 'moon', 'and', 'ascendant', 'in', 'capricorn', 'what', 'does', 'this', 'say', 'about', 'me'] \n",
      "\n",
      "0    16.00000\n",
      "1    16.00000\n",
      "2    11.00000\n",
      "3    21.00000\n",
      "4     0.52381\n",
      "5     3.93750\n",
      "6     3.81250\n",
      "dtype: float64\n"
     ]
    }
   ],
   "source": [
    "n = 5\n",
    "print train[\"question1\"][n]\n",
    "print train[\"question2\"][n], '\\n'\n",
    "set_no_stops1 = text_to_word_sets( train[\"question1\"][n] )[0]\n",
    "set_no_stops2 = text_to_word_sets( train[\"question2\"][n] )[0]\n",
    "list_no_stops1 = text_to_word_lists( train[\"question1\"][n] )[0]\n",
    "list_no_stops2 = text_to_word_lists( train[\"question2\"][n] )[0]\n",
    "print set_no_stops1\n",
    "print list_no_stops1\n",
    "print set_no_stops1\n",
    "print list_no_stops2, '\\n'\n",
    "print generate_features_from_sets(set_no_stops1, set_no_stops2)"
   ]
  },
  {
   "cell_type": "code",
   "execution_count": 8,
   "metadata": {
    "collapsed": false,
    "deletable": true,
    "editable": true
   },
   "outputs": [
    {
     "name": "stdout",
     "output_type": "stream",
     "text": [
      "set(['capricorn', 'sun', 'cap', 'moon', 'say', 'rising', 'astrology'])\n",
      "['astrology', 'capricorn', 'sun', 'cap', 'moon', 'cap', 'rising', 'say']\n",
      "set(['ascendant', 'capricorn', 'sun', 'moon', 'say', 'triple'])\n",
      "['triple', 'capricorn', 'sun', 'moon', 'ascendant', 'capricorn', 'say'] \n",
      "\n",
      "0    7.000000\n",
      "1    6.000000\n",
      "2    4.000000\n",
      "3    9.000000\n",
      "4    0.444444\n",
      "5    5.285714\n",
      "6    5.666667\n",
      "dtype: float64\n"
     ]
    }
   ],
   "source": [
    "set1 = text_to_word_sets( train[\"question1\"][n] )[1]\n",
    "set2 = text_to_word_sets( train[\"question2\"][n] )[1]\n",
    "list1 = text_to_word_lists( train[\"question1\"][n] )[1]\n",
    "list2 = text_to_word_lists( train[\"question2\"][n] )[1]\n",
    "print set1\n",
    "print list1\n",
    "print set2\n",
    "print list2, '\\n'\n",
    "print generate_features_from_sets(set1, set2)"
   ]
  },
  {
   "cell_type": "code",
   "execution_count": 9,
   "metadata": {
    "collapsed": false,
    "deletable": true,
    "editable": true
   },
   "outputs": [
    {
     "name": "stderr",
     "output_type": "stream",
     "text": [
      "Question 1 to word sets::   0%|          | 230/404290 [00:00<02:55, 2297.43it/s]"
     ]
    },
    {
     "name": "stdout",
     "output_type": "stream",
     "text": [
      "\n"
     ]
    },
    {
     "name": "stderr",
     "output_type": "stream",
     "text": [
      "Question 1 to word sets:: 100%|██████████| 404290/404290 [02:45<00:00, 2436.64it/s]\n",
      "Question 2 to word sets::   0%|          | 269/404290 [00:00<02:30, 2687.55it/s]"
     ]
    },
    {
     "name": "stdout",
     "output_type": "stream",
     "text": [
      "\n"
     ]
    },
    {
     "name": "stderr",
     "output_type": "stream",
     "text": [
      "Question 2 to word sets:: 100%|██████████| 404290/404290 [02:57<00:00, 2277.92it/s]\n",
      "Question 1 to word lists::   0%|          | 131/404290 [00:00<05:09, 1307.49it/s]"
     ]
    },
    {
     "name": "stdout",
     "output_type": "stream",
     "text": [
      "\n"
     ]
    },
    {
     "name": "stderr",
     "output_type": "stream",
     "text": [
      "Question 1 to word lists:: 100%|██████████| 404290/404290 [03:02<00:00, 2219.63it/s]\n",
      "Question 2 to word lists::   0%|          | 6/404290 [00:00<2:06:27, 53.28it/s]"
     ]
    },
    {
     "name": "stdout",
     "output_type": "stream",
     "text": [
      "\n"
     ]
    },
    {
     "name": "stderr",
     "output_type": "stream",
     "text": [
      "Question 2 to word lists:: 100%|██████████| 404290/404290 [03:00<00:00, 2238.39it/s]\n"
     ]
    }
   ],
   "source": [
    "tqdm.tqdm_notebook(tqdm.tqdm.pandas(desc = 'Question 1 to word sets:'))\n",
    "train[['word_set1', 'word_set_no_stops1']] = train['question1'].progress_apply(lambda x : text_to_word_sets(x))\n",
    "\n",
    "tqdm.tqdm_notebook(tqdm.tqdm.pandas(desc = 'Question 2 to word sets:'))\n",
    "train[['word_set2', 'word_set_no_stops2']] = train['question2'].progress_apply(lambda x : text_to_word_sets(x))\n",
    "\n",
    "tqdm.tqdm_notebook(tqdm.tqdm.pandas(desc = 'Question 1 to word lists:'))\n",
    "train[['word_list1', 'word_list_no_stops1']] = train['question1'].progress_apply(lambda x : text_to_word_lists(x))\n",
    "\n",
    "tqdm.tqdm_notebook(tqdm.tqdm.pandas(desc = 'Question 2 to word lists:'))\n",
    "train[['word_list2', 'word_list_no_stops2']] = train['question2'].progress_apply(lambda x : text_to_word_lists(x))"
   ]
  },
  {
   "cell_type": "code",
   "execution_count": 10,
   "metadata": {
    "collapsed": true,
    "deletable": true,
    "editable": true
   },
   "outputs": [],
   "source": [
    "train[['question1', 'question2',\n",
    "       'word_set1', 'word_set2',\n",
    "       'word_set_no_stops1', 'word_set_no_stops2',\n",
    "       'word_list1', 'word_list2',\n",
    "       'word_list_no_stops1', 'word_list_no_stops2',]].to_csv('train_sets_lists.csv', header = False, index = False)"
   ]
  },
  {
   "cell_type": "code",
   "execution_count": 11,
   "metadata": {
    "collapsed": false,
    "deletable": true,
    "editable": true
   },
   "outputs": [
    {
     "name": "stderr",
     "output_type": "stream",
     "text": [
      "\r",
      "Set intersections::   0%|          | 0/11 [00:00<?, ?it/s]"
     ]
    },
    {
     "name": "stdout",
     "output_type": "stream",
     "text": [
      "\n"
     ]
    },
    {
     "name": "stderr",
     "output_type": "stream",
     "text": [
      "Set intersections:: 404291it [02:07, 3160.17it/s]                 \n"
     ]
    },
    {
     "data": {
      "text/html": [
       "<div>\n",
       "<table border=\"1\" class=\"dataframe\">\n",
       "  <thead>\n",
       "    <tr style=\"text-align: right;\">\n",
       "      <th></th>\n",
       "      <th>question1</th>\n",
       "      <th>question2</th>\n",
       "      <th>is_duplicate</th>\n",
       "      <th>word_set1</th>\n",
       "      <th>word_set_no_stops1</th>\n",
       "      <th>word_set2</th>\n",
       "      <th>word_set_no_stops2</th>\n",
       "      <th>word_list1</th>\n",
       "      <th>word_list_no_stops1</th>\n",
       "      <th>word_list2</th>\n",
       "      <th>word_list_no_stops2</th>\n",
       "      <th># of words 1</th>\n",
       "      <th># of words 2</th>\n",
       "      <th># of words in intersection</th>\n",
       "      <th># of words in union</th>\n",
       "      <th>jaccard similarity</th>\n",
       "      <th>average word length 1</th>\n",
       "      <th>average word length 2</th>\n",
       "    </tr>\n",
       "  </thead>\n",
       "  <tbody>\n",
       "    <tr>\n",
       "      <th>0</th>\n",
       "      <td>What is the step by step guide to invest in sh...</td>\n",
       "      <td>What is the step by step guide to invest in sh...</td>\n",
       "      <td>0</td>\n",
       "      <td>{what, invest, is, india, share, by, to, step,...</td>\n",
       "      <td>{invest, share, step, india, guide, market}</td>\n",
       "      <td>{what, invest, is, share, by, to, step, in, th...</td>\n",
       "      <td>{invest, step, share, guide, market}</td>\n",
       "      <td>[what, is, the, step, by, step, guide, to, inv...</td>\n",
       "      <td>[step, step, guide, invest, share, market, india]</td>\n",
       "      <td>[what, is, the, step, by, step, guide, to, inv...</td>\n",
       "      <td>[step, step, guide, invest, share, market]</td>\n",
       "      <td>6.0</td>\n",
       "      <td>5.0</td>\n",
       "      <td>5.0</td>\n",
       "      <td>6.0</td>\n",
       "      <td>0.833333</td>\n",
       "      <td>5.166667</td>\n",
       "      <td>5.200000</td>\n",
       "    </tr>\n",
       "    <tr>\n",
       "      <th>1</th>\n",
       "      <td>What is the story of Kohinoor (Koh-i-Noor) Dia...</td>\n",
       "      <td>What would happen if the Indian government sto...</td>\n",
       "      <td>0</td>\n",
       "      <td>{koh, what, diamond, i, of, is, kohinoor, noor...</td>\n",
       "      <td>{koh, story, diamond, kohinoor, noor}</td>\n",
       "      <td>{koh, what, diamond, would, government, i, koh...</td>\n",
       "      <td>{koh, diamond, would, government, back, kohino...</td>\n",
       "      <td>[what, is, the, story, of, kohinoor, koh, i, n...</td>\n",
       "      <td>[story, kohinoor, koh, noor, diamond]</td>\n",
       "      <td>[what, would, happen, if, the, indian, governm...</td>\n",
       "      <td>[would, happen, indian, government, stole, koh...</td>\n",
       "      <td>5.0</td>\n",
       "      <td>10.0</td>\n",
       "      <td>4.0</td>\n",
       "      <td>11.0</td>\n",
       "      <td>0.363636</td>\n",
       "      <td>5.400000</td>\n",
       "      <td>5.800000</td>\n",
       "    </tr>\n",
       "    <tr>\n",
       "      <th>2</th>\n",
       "      <td>How can I increase the speed of my internet co...</td>\n",
       "      <td>How can Internet speed be increased by hacking...</td>\n",
       "      <td>0</td>\n",
       "      <td>{a, using, i, of, while, increase, how, connec...</td>\n",
       "      <td>{increase, connection, internet, using, vpn, s...</td>\n",
       "      <td>{be, increased, how, through, can, dns, intern...</td>\n",
       "      <td>{hacking, speed, increased, dns, internet}</td>\n",
       "      <td>[how, can, i, increase, the, speed, of, my, in...</td>\n",
       "      <td>[increase, speed, internet, connection, using,...</td>\n",
       "      <td>[how, can, internet, speed, be, increased, by,...</td>\n",
       "      <td>[internet, speed, increased, hacking, dns]</td>\n",
       "      <td>6.0</td>\n",
       "      <td>5.0</td>\n",
       "      <td>2.0</td>\n",
       "      <td>9.0</td>\n",
       "      <td>0.222222</td>\n",
       "      <td>6.500000</td>\n",
       "      <td>6.400000</td>\n",
       "    </tr>\n",
       "    <tr>\n",
       "      <th>3</th>\n",
       "      <td>Why am I mentally very lonely? How can I solve...</td>\n",
       "      <td>Find the remainder when [math]23^{24}[/math] i...</td>\n",
       "      <td>0</td>\n",
       "      <td>{lonely, how, i, am, it, very, solve, can, why...</td>\n",
       "      <td>{lonely, solve, mentally}</td>\n",
       "      <td>{24, 23, is, when, by, the, remainder, find, m...</td>\n",
       "      <td>{24, 23, divided, remainder, find, math}</td>\n",
       "      <td>[why, am, i, mentally, very, lonely, how, can,...</td>\n",
       "      <td>[mentally, lonely, solve]</td>\n",
       "      <td>[find, the, remainder, when, math, 23, 24, mat...</td>\n",
       "      <td>[find, remainder, math, 23, 24, math, divided,...</td>\n",
       "      <td>3.0</td>\n",
       "      <td>6.0</td>\n",
       "      <td>0.0</td>\n",
       "      <td>9.0</td>\n",
       "      <td>0.000000</td>\n",
       "      <td>6.333333</td>\n",
       "      <td>4.666667</td>\n",
       "    </tr>\n",
       "    <tr>\n",
       "      <th>4</th>\n",
       "      <td>Which one dissolve in water quikly sugar, salt...</td>\n",
       "      <td>Which fish would survive in salt water?</td>\n",
       "      <td>0</td>\n",
       "      <td>{and, di, one, water, oxide, which, in, quikly...</td>\n",
       "      <td>{di, one, water, oxide, carbon, quikly, sugar,...</td>\n",
       "      <td>{would, fish, water, which, in, survive, salt}</td>\n",
       "      <td>{water, survive, fish, salt, would}</td>\n",
       "      <td>[which, one, dissolve, in, water, quikly, suga...</td>\n",
       "      <td>[one, dissolve, water, quikly, sugar, salt, me...</td>\n",
       "      <td>[which, fish, would, survive, in, salt, water]</td>\n",
       "      <td>[fish, would, survive, salt, water]</td>\n",
       "      <td>10.0</td>\n",
       "      <td>5.0</td>\n",
       "      <td>2.0</td>\n",
       "      <td>13.0</td>\n",
       "      <td>0.153846</td>\n",
       "      <td>5.100000</td>\n",
       "      <td>5.000000</td>\n",
       "    </tr>\n",
       "  </tbody>\n",
       "</table>\n",
       "</div>"
      ],
      "text/plain": [
       "                                           question1  \\\n",
       "0  What is the step by step guide to invest in sh...   \n",
       "1  What is the story of Kohinoor (Koh-i-Noor) Dia...   \n",
       "2  How can I increase the speed of my internet co...   \n",
       "3  Why am I mentally very lonely? How can I solve...   \n",
       "4  Which one dissolve in water quikly sugar, salt...   \n",
       "\n",
       "                                           question2  is_duplicate  \\\n",
       "0  What is the step by step guide to invest in sh...             0   \n",
       "1  What would happen if the Indian government sto...             0   \n",
       "2  How can Internet speed be increased by hacking...             0   \n",
       "3  Find the remainder when [math]23^{24}[/math] i...             0   \n",
       "4            Which fish would survive in salt water?             0   \n",
       "\n",
       "                                           word_set1  \\\n",
       "0  {what, invest, is, india, share, by, to, step,...   \n",
       "1  {koh, what, diamond, i, of, is, kohinoor, noor...   \n",
       "2  {a, using, i, of, while, increase, how, connec...   \n",
       "3  {lonely, how, i, am, it, very, solve, can, why...   \n",
       "4  {and, di, one, water, oxide, which, in, quikly...   \n",
       "\n",
       "                                  word_set_no_stops1  \\\n",
       "0        {invest, share, step, india, guide, market}   \n",
       "1              {koh, story, diamond, kohinoor, noor}   \n",
       "2  {increase, connection, internet, using, vpn, s...   \n",
       "3                          {lonely, solve, mentally}   \n",
       "4  {di, one, water, oxide, carbon, quikly, sugar,...   \n",
       "\n",
       "                                           word_set2  \\\n",
       "0  {what, invest, is, share, by, to, step, in, th...   \n",
       "1  {koh, what, diamond, would, government, i, koh...   \n",
       "2  {be, increased, how, through, can, dns, intern...   \n",
       "3  {24, 23, is, when, by, the, remainder, find, m...   \n",
       "4     {would, fish, water, which, in, survive, salt}   \n",
       "\n",
       "                                  word_set_no_stops2  \\\n",
       "0               {invest, step, share, guide, market}   \n",
       "1  {koh, diamond, would, government, back, kohino...   \n",
       "2         {hacking, speed, increased, dns, internet}   \n",
       "3           {24, 23, divided, remainder, find, math}   \n",
       "4                {water, survive, fish, salt, would}   \n",
       "\n",
       "                                          word_list1  \\\n",
       "0  [what, is, the, step, by, step, guide, to, inv...   \n",
       "1  [what, is, the, story, of, kohinoor, koh, i, n...   \n",
       "2  [how, can, i, increase, the, speed, of, my, in...   \n",
       "3  [why, am, i, mentally, very, lonely, how, can,...   \n",
       "4  [which, one, dissolve, in, water, quikly, suga...   \n",
       "\n",
       "                                 word_list_no_stops1  \\\n",
       "0  [step, step, guide, invest, share, market, india]   \n",
       "1              [story, kohinoor, koh, noor, diamond]   \n",
       "2  [increase, speed, internet, connection, using,...   \n",
       "3                          [mentally, lonely, solve]   \n",
       "4  [one, dissolve, water, quikly, sugar, salt, me...   \n",
       "\n",
       "                                          word_list2  \\\n",
       "0  [what, is, the, step, by, step, guide, to, inv...   \n",
       "1  [what, would, happen, if, the, indian, governm...   \n",
       "2  [how, can, internet, speed, be, increased, by,...   \n",
       "3  [find, the, remainder, when, math, 23, 24, mat...   \n",
       "4     [which, fish, would, survive, in, salt, water]   \n",
       "\n",
       "                                 word_list_no_stops2  # of words 1  \\\n",
       "0         [step, step, guide, invest, share, market]           6.0   \n",
       "1  [would, happen, indian, government, stole, koh...           5.0   \n",
       "2         [internet, speed, increased, hacking, dns]           6.0   \n",
       "3  [find, remainder, math, 23, 24, math, divided,...           3.0   \n",
       "4                [fish, would, survive, salt, water]          10.0   \n",
       "\n",
       "   # of words 2  # of words in intersection  # of words in union  \\\n",
       "0           5.0                         5.0                  6.0   \n",
       "1          10.0                         4.0                 11.0   \n",
       "2           5.0                         2.0                  9.0   \n",
       "3           6.0                         0.0                  9.0   \n",
       "4           5.0                         2.0                 13.0   \n",
       "\n",
       "   jaccard similarity  average word length 1  average word length 2  \n",
       "0            0.833333               5.166667               5.200000  \n",
       "1            0.363636               5.400000               5.800000  \n",
       "2            0.222222               6.500000               6.400000  \n",
       "3            0.000000               6.333333               4.666667  \n",
       "4            0.153846               5.100000               5.000000  "
      ]
     },
     "execution_count": 11,
     "metadata": {},
     "output_type": "execute_result"
    }
   ],
   "source": [
    "tqdm.tqdm_notebook(tqdm.tqdm.pandas(desc = 'Set intersections:'))\n",
    "train[features_from_sets] = train.progress_apply( lambda row : \\\n",
    "    generate_features_from_sets(row['word_set_no_stops1'], row['word_set_no_stops2']), axis = 1)\n",
    "train.head()"
   ]
  },
  {
   "cell_type": "code",
   "execution_count": 12,
   "metadata": {
    "collapsed": false,
    "deletable": true,
    "editable": true
   },
   "outputs": [],
   "source": [
    "train[['is_duplicate']].to_csv('target.csv', header = False, index = False)\n",
    "train[all_features].to_csv('00 train features.csv', header = False, index = False)\n",
    "\n",
    "dtrain = xgb.DMatrix(train[all_features], label = train['is_duplicate'])\n",
    "dtrain.save_binary('00 dtrain features')"
   ]
  },
  {
   "cell_type": "markdown",
   "metadata": {
    "deletable": true,
    "editable": true
   },
   "source": [
    "# Now process test data"
   ]
  },
  {
   "cell_type": "code",
   "execution_count": null,
   "metadata": {
    "collapsed": false
   },
   "outputs": [
    {
     "name": "stderr",
     "output_type": "stream",
     "text": [
      "\r",
      "Question 1 to word sets::   0%|          | 0/2345796 [00:00<?, ?it/s]"
     ]
    },
    {
     "name": "stdout",
     "output_type": "stream",
     "text": [
      "\n"
     ]
    },
    {
     "name": "stderr",
     "output_type": "stream",
     "text": [
      "Question 1 to word sets::  96%|█████████▌| 2244074/2345796 [21:40<07:48, 217.14it/s]             "
     ]
    }
   ],
   "source": [
    "tqdm.tqdm_notebook(tqdm.tqdm.pandas(desc = 'Question 1 to word sets:'))\n",
    "test[['word_set1', 'word_set_no_stops1']] = test['question1'].progress_apply(lambda x : text_to_word_sets(x))"
   ]
  },
  {
   "cell_type": "code",
   "execution_count": null,
   "metadata": {
    "collapsed": true
   },
   "outputs": [],
   "source": [
    "tqdm.tqdm_notebook(tqdm.tqdm.pandas(desc = 'Question 2 to word sets:'))\n",
    "test[['word_set2', 'word_set_no_stops2']] = test['question2'].progress_apply(lambda x : text_to_word_sets(x))"
   ]
  },
  {
   "cell_type": "code",
   "execution_count": null,
   "metadata": {
    "collapsed": true
   },
   "outputs": [],
   "source": [
    "tqdm.tqdm_notebook(tqdm.tqdm.pandas(desc = 'Question 1 to word lists:'))\n",
    "test[['word_list1', 'word_list_no_stops1']] = test['question1'].progress_apply(lambda x : text_to_word_lists(x))"
   ]
  },
  {
   "cell_type": "code",
   "execution_count": null,
   "metadata": {
    "collapsed": false,
    "deletable": true,
    "editable": true
   },
   "outputs": [
    {
     "name": "stderr",
     "output_type": "stream",
     "text": [
      "\r",
      "Question 1 to word sets::   0%|          | 0/2345796 [00:00<?, ?it/s]"
     ]
    },
    {
     "name": "stdout",
     "output_type": "stream",
     "text": [
      "\n"
     ]
    },
    {
     "name": "stderr",
     "output_type": "stream",
     "text": [
      "Question 1 to word sets::  39%|███▉      | 914058/2345796 [05:53<08:00, 2980.80it/s] "
     ]
    }
   ],
   "source": [
    "tqdm.tqdm_notebook(tqdm.tqdm.pandas(desc = 'Question 2 to word lists:'))\n",
    "test[['word_list2', 'word_list_no_stops2']] = test['question2'].progress_apply(lambda x : text_to_word_lists(x))"
   ]
  },
  {
   "cell_type": "code",
   "execution_count": null,
   "metadata": {
    "collapsed": false,
    "deletable": true,
    "editable": true
   },
   "outputs": [],
   "source": [
    "test[['question1', 'question2',\n",
    "      'word_set1', #'word_set2',\n",
    "      'word_set_no_stops1',# 'word_set_no_stops2',\n",
    "#       'word_list1', 'word_list2',\n",
    "#       'word_list_no_stops1', 'word_list_no_stops2'\n",
    "     ]].to_csv('test_sets_lists.csv', header = False, index = False)"
   ]
  },
  {
   "cell_type": "code",
   "execution_count": null,
   "metadata": {
    "collapsed": true,
    "deletable": true,
    "editable": true
   },
   "outputs": [],
   "source": [
    "tqdm.tqdm_notebook(tqdm.tqdm.pandas(desc = 'Set intersections:'))\n",
    "test[features_from_sets] = test.progress_apply( lambda row : \\\n",
    "    generate_features_from_sets(row['word_set_no_stops1'], row['word_set_no_stops2']), axis = 1)\n",
    "test.head()"
   ]
  },
  {
   "cell_type": "code",
   "execution_count": null,
   "metadata": {
    "collapsed": true,
    "deletable": true,
    "editable": true
   },
   "outputs": [],
   "source": []
  },
  {
   "cell_type": "code",
   "execution_count": 13,
   "metadata": {
    "collapsed": false,
    "deletable": true,
    "editable": true
   },
   "outputs": [],
   "source": [
    "test[all_features].to_csv('00 train.csv', header = False, index = False)\n",
    "ids.to_csv('ids.csv', header = False, index = False)\n",
    "dtest = xgb.DMatrix(test[all_features])\n",
    "dtest.save_binary('01 test')"
   ]
  },
  {
   "cell_type": "code",
   "execution_count": 45,
   "metadata": {
    "collapsed": false,
    "deletable": true,
    "editable": true
   },
   "outputs": [],
   "source": [
    "true_duplicates = (test['question1'].str.lower() == test['question2'].str.lower())\n",
    "true_duplicates.to_csv('true_duplicates', header = False, index = False)"
   ]
  },
  {
   "cell_type": "code",
   "execution_count": null,
   "metadata": {
    "collapsed": true,
    "deletable": true,
    "editable": true
   },
   "outputs": [],
   "source": []
  }
 ],
 "metadata": {
  "kernelspec": {
   "display_name": "Python 2",
   "language": "python",
   "name": "python2"
  },
  "language_info": {
   "codemirror_mode": {
    "name": "ipython",
    "version": 2
   },
   "file_extension": ".py",
   "mimetype": "text/x-python",
   "name": "python",
   "nbconvert_exporter": "python",
   "pygments_lexer": "ipython2",
   "version": "2.7.12"
  }
 },
 "nbformat": 4,
 "nbformat_minor": 1
}
