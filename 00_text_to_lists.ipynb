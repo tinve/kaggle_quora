{
 "cells": [
  {
   "cell_type": "code",
   "execution_count": 15,
   "metadata": {
    "collapsed": false,
    "deletable": true,
    "editable": true
   },
   "outputs": [],
   "source": [
    "from __future__ import division\n",
    "\n",
    "import pandas as pd\n",
    "import numpy as np\n",
    "import sframe\n",
    "import xgboost as xgb\n",
    "import string\n",
    "import datetime\n",
    "import sframe\n",
    "\n",
    "from nltk.corpus import stopwords # Import the stop word list\n",
    "\n",
    "%matplotlib inline"
   ]
  },
  {
   "cell_type": "code",
   "execution_count": 16,
   "metadata": {
    "collapsed": false,
    "deletable": true,
    "editable": true
   },
   "outputs": [
    {
     "data": {
      "text/plain": [
       "\n",
       "+--------------------+----------------+----------+\n",
       "|        item        |     value      | is exact |\n",
       "+--------------------+----------------+----------+\n",
       "|       Length       |     404290     |   Yes    |\n",
       "|        Min         |      0.0       |   Yes    |\n",
       "|        Max         |      1.0       |   Yes    |\n",
       "|        Mean        | 0.369197853026 |   Yes    |\n",
       "|        Sum         |    149263.0    |   Yes    |\n",
       "|      Variance      | 0.232890798347 |   Yes    |\n",
       "| Standard Deviation | 0.482587606914 |   Yes    |\n",
       "|  # Missing Values  |       0        |   Yes    |\n",
       "|  # unique values   |       2        |    No    |\n",
       "+--------------------+----------------+----------+\n",
       "\n",
       "Most frequent items:\n",
       "+-------+--------+--------+\n",
       "| value |   0    |   1    |\n",
       "+-------+--------+--------+\n",
       "| count | 255027 | 149263 |\n",
       "+-------+--------+--------+\n",
       "\n",
       "Quantiles: \n",
       "+-----+-----+-----+-----+-----+-----+-----+-----+------+\n",
       "|  0% |  1% |  5% | 25% | 50% | 75% | 95% | 99% | 100% |\n",
       "+-----+-----+-----+-----+-----+-----+-----+-----+------+\n",
       "| 0.0 | 0.0 | 0.0 | 0.0 | 0.0 | 1.0 | 1.0 | 1.0 | 1.0  |\n",
       "+-----+-----+-----+-----+-----+-----+-----+-----+------+"
      ]
     },
     "execution_count": 16,
     "metadata": {},
     "output_type": "execute_result"
    }
   ],
   "source": [
    "train['is_duplicate'].sketch_summary()"
   ]
  },
  {
   "cell_type": "code",
   "execution_count": 17,
   "metadata": {
    "collapsed": false,
    "deletable": true,
    "editable": true
   },
   "outputs": [
    {
     "data": {
      "text/html": [
       "<div style=\"max-height:1000px;max-width:1500px;overflow:auto;\"><table frame=\"box\" rules=\"cols\">\n",
       "    <tr>\n",
       "        <th style=\"padding-left: 1em; padding-right: 1em; text-align: center\">question1</th>\n",
       "        <th style=\"padding-left: 1em; padding-right: 1em; text-align: center\">question2</th>\n",
       "        <th style=\"padding-left: 1em; padding-right: 1em; text-align: center\">is_duplicate</th>\n",
       "    </tr>\n",
       "    <tr>\n",
       "        <td style=\"padding-left: 1em; padding-right: 1em; text-align: center; vertical-align: top\">What is the step by step<br>guide to invest in share ...</td>\n",
       "        <td style=\"padding-left: 1em; padding-right: 1em; text-align: center; vertical-align: top\">What is the step by step<br>guide to invest in share ...</td>\n",
       "        <td style=\"padding-left: 1em; padding-right: 1em; text-align: center; vertical-align: top\">0</td>\n",
       "    </tr>\n",
       "    <tr>\n",
       "        <td style=\"padding-left: 1em; padding-right: 1em; text-align: center; vertical-align: top\">What is the story of<br>Kohinoor (Koh-i-Noor) ...</td>\n",
       "        <td style=\"padding-left: 1em; padding-right: 1em; text-align: center; vertical-align: top\">What would happen if the<br>Indian government stole ...</td>\n",
       "        <td style=\"padding-left: 1em; padding-right: 1em; text-align: center; vertical-align: top\">0</td>\n",
       "    </tr>\n",
       "    <tr>\n",
       "        <td style=\"padding-left: 1em; padding-right: 1em; text-align: center; vertical-align: top\">How can I increase the<br>speed of my internet ...</td>\n",
       "        <td style=\"padding-left: 1em; padding-right: 1em; text-align: center; vertical-align: top\">How can Internet speed be<br>increased by hacking ...</td>\n",
       "        <td style=\"padding-left: 1em; padding-right: 1em; text-align: center; vertical-align: top\">0</td>\n",
       "    </tr>\n",
       "    <tr>\n",
       "        <td style=\"padding-left: 1em; padding-right: 1em; text-align: center; vertical-align: top\">Why am I mentally very<br>lonely? How can I solve ...</td>\n",
       "        <td style=\"padding-left: 1em; padding-right: 1em; text-align: center; vertical-align: top\">Find the remainder when<br>[math]23^{24}[/math] is ...</td>\n",
       "        <td style=\"padding-left: 1em; padding-right: 1em; text-align: center; vertical-align: top\">0</td>\n",
       "    </tr>\n",
       "    <tr>\n",
       "        <td style=\"padding-left: 1em; padding-right: 1em; text-align: center; vertical-align: top\">Which one dissolve in<br>water quikly sugar, s ...</td>\n",
       "        <td style=\"padding-left: 1em; padding-right: 1em; text-align: center; vertical-align: top\">Which fish would survive<br>in salt water? ...</td>\n",
       "        <td style=\"padding-left: 1em; padding-right: 1em; text-align: center; vertical-align: top\">0</td>\n",
       "    </tr>\n",
       "</table>\n",
       "[5 rows x 3 columns]<br/>\n",
       "</div>"
      ],
      "text/plain": [
       "Columns:\n",
       "\tquestion1\tstr\n",
       "\tquestion2\tstr\n",
       "\tis_duplicate\tint\n",
       "\n",
       "Rows: 5\n",
       "\n",
       "Data:\n",
       "+-------------------------------+-------------------------------+--------------+\n",
       "|           question1           |           question2           | is_duplicate |\n",
       "+-------------------------------+-------------------------------+--------------+\n",
       "| What is the step by step g... | What is the step by step g... |      0       |\n",
       "| What is the story of Kohin... | What would happen if the I... |      0       |\n",
       "| How can I increase the spe... | How can Internet speed be ... |      0       |\n",
       "| Why am I mentally very lon... | Find the remainder when [m... |      0       |\n",
       "| Which one dissolve in wate... | Which fish would survive i... |      0       |\n",
       "+-------------------------------+-------------------------------+--------------+\n",
       "[5 rows x 3 columns]"
      ]
     },
     "execution_count": 17,
     "metadata": {},
     "output_type": "execute_result"
    }
   ],
   "source": [
    "train.head(5)"
   ]
  },
  {
   "cell_type": "code",
   "execution_count": 18,
   "metadata": {
    "collapsed": true,
    "deletable": true,
    "editable": true
   },
   "outputs": [],
   "source": [
    "test = pd.read_csv('test.csv').fillna('')\n",
    "test = sframe.SFrame(test)\n",
    "ids = test[['test_id']]\n",
    "test = test.remove_columns(['test_id'])"
   ]
  },
  {
   "cell_type": "code",
   "execution_count": 19,
   "metadata": {
    "collapsed": false,
    "deletable": true,
    "editable": true
   },
   "outputs": [
    {
     "data": {
      "text/html": [
       "<div style=\"max-height:1000px;max-width:1500px;overflow:auto;\"><table frame=\"box\" rules=\"cols\">\n",
       "    <tr>\n",
       "        <th style=\"padding-left: 1em; padding-right: 1em; text-align: center\">question1</th>\n",
       "        <th style=\"padding-left: 1em; padding-right: 1em; text-align: center\">question2</th>\n",
       "    </tr>\n",
       "    <tr>\n",
       "        <td style=\"padding-left: 1em; padding-right: 1em; text-align: center; vertical-align: top\">How does the Surface Pro<br>himself 4 compare with ...</td>\n",
       "        <td style=\"padding-left: 1em; padding-right: 1em; text-align: center; vertical-align: top\">Why did Microsoft choose<br>core m3 and not core i3 ...</td>\n",
       "    </tr>\n",
       "    <tr>\n",
       "        <td style=\"padding-left: 1em; padding-right: 1em; text-align: center; vertical-align: top\">Should I have a hair<br>transplant at age 24? ...</td>\n",
       "        <td style=\"padding-left: 1em; padding-right: 1em; text-align: center; vertical-align: top\">How much cost does hair<br>transplant require? ...</td>\n",
       "    </tr>\n",
       "    <tr>\n",
       "        <td style=\"padding-left: 1em; padding-right: 1em; text-align: center; vertical-align: top\">What but is the best way<br>to send money from China ...</td>\n",
       "        <td style=\"padding-left: 1em; padding-right: 1em; text-align: center; vertical-align: top\">What you send money to<br>China? ...</td>\n",
       "    </tr>\n",
       "    <tr>\n",
       "        <td style=\"padding-left: 1em; padding-right: 1em; text-align: center; vertical-align: top\">Which food not<br>emulsifiers? ...</td>\n",
       "        <td style=\"padding-left: 1em; padding-right: 1em; text-align: center; vertical-align: top\">What foods fibre?</td>\n",
       "    </tr>\n",
       "    <tr>\n",
       "        <td style=\"padding-left: 1em; padding-right: 1em; text-align: center; vertical-align: top\">How \"aberystwyth\" start<br>reading? ...</td>\n",
       "        <td style=\"padding-left: 1em; padding-right: 1em; text-align: center; vertical-align: top\">How their can I start<br>reading? ...</td>\n",
       "    </tr>\n",
       "</table>\n",
       "[5 rows x 2 columns]<br/>\n",
       "</div>"
      ],
      "text/plain": [
       "Columns:\n",
       "\tquestion1\tstr\n",
       "\tquestion2\tstr\n",
       "\n",
       "Rows: 5\n",
       "\n",
       "Data:\n",
       "+-------------------------------+--------------------------------+\n",
       "|           question1           |           question2            |\n",
       "+-------------------------------+--------------------------------+\n",
       "| How does the Surface Pro h... | Why did Microsoft choose c...  |\n",
       "| Should I have a hair trans... | How much cost does hair tr...  |\n",
       "| What but is the best way t... | What you send money to China?  |\n",
       "|  Which food not emulsifiers?  |       What foods fibre?        |\n",
       "| How \"aberystwyth\" start re... | How their can I start reading? |\n",
       "+-------------------------------+--------------------------------+\n",
       "[5 rows x 2 columns]"
      ]
     },
     "execution_count": 19,
     "metadata": {},
     "output_type": "execute_result"
    }
   ],
   "source": [
    "test.head(5)"
   ]
  },
  {
   "cell_type": "code",
   "execution_count": 22,
   "metadata": {
    "collapsed": false,
    "deletable": true,
    "editable": true
   },
   "outputs": [],
   "source": [
    "# def is_true_duplicate(x, y):\n",
    "#     x = x.lower()\n",
    "#     y = y.lower()\n",
    "#     return x == y\n",
    "\n",
    "def text_to_word_lists( raw_text ):\n",
    "    # Convert to lower case\n",
    "    words = raw_text.lower()\n",
    "    # Replace punctuation with spaces\n",
    "    words = words.translate(string.maketrans(string.punctuation,' '*len(string.punctuation))) \n",
    "    # Split into individual words, convert into set\n",
    "    words = words.split()\n",
    "    #  In Python, searching a set is much faster than searching\n",
    "    #  a list, so convert the stop words to a set\n",
    "    stops = set(stopwords.words(\"english\"))                  \n",
    "    # Remove stop words\n",
    "    return sframe.SArray([words, [w for w in words if w not in stops]])"
   ]
  },
  {
   "cell_type": "code",
   "execution_count": 23,
   "metadata": {
    "collapsed": false,
    "deletable": true,
    "editable": true
   },
   "outputs": [
    {
     "data": {
      "text/html": [
       "<div style=\"max-height:1000px;max-width:1500px;overflow:auto;\"><table frame=\"box\" rules=\"cols\">\n",
       "    <tr>\n",
       "        <th style=\"padding-left: 1em; padding-right: 1em; text-align: center\">question1</th>\n",
       "        <th style=\"padding-left: 1em; padding-right: 1em; text-align: center\">question2</th>\n",
       "        <th style=\"padding-left: 1em; padding-right: 1em; text-align: center\">is_duplicate</th>\n",
       "        <th style=\"padding-left: 1em; padding-right: 1em; text-align: center\">word_list1</th>\n",
       "    </tr>\n",
       "    <tr>\n",
       "        <td style=\"padding-left: 1em; padding-right: 1em; text-align: center; vertical-align: top\">What is the step by step<br>guide to invest in share ...</td>\n",
       "        <td style=\"padding-left: 1em; padding-right: 1em; text-align: center; vertical-align: top\">What is the step by step<br>guide to invest in share ...</td>\n",
       "        <td style=\"padding-left: 1em; padding-right: 1em; text-align: center; vertical-align: top\">0</td>\n",
       "        <td style=\"padding-left: 1em; padding-right: 1em; text-align: center; vertical-align: top\">[what, is, the, step, by,<br>step, guide, to, invest, ...</td>\n",
       "    </tr>\n",
       "    <tr>\n",
       "        <td style=\"padding-left: 1em; padding-right: 1em; text-align: center; vertical-align: top\">What is the story of<br>Kohinoor (Koh-i-Noor) ...</td>\n",
       "        <td style=\"padding-left: 1em; padding-right: 1em; text-align: center; vertical-align: top\">What would happen if the<br>Indian government stole ...</td>\n",
       "        <td style=\"padding-left: 1em; padding-right: 1em; text-align: center; vertical-align: top\">0</td>\n",
       "        <td style=\"padding-left: 1em; padding-right: 1em; text-align: center; vertical-align: top\">[what, is, the, story,<br>of, kohinoor, koh, i, ...</td>\n",
       "    </tr>\n",
       "    <tr>\n",
       "        <td style=\"padding-left: 1em; padding-right: 1em; text-align: center; vertical-align: top\">How can I increase the<br>speed of my internet ...</td>\n",
       "        <td style=\"padding-left: 1em; padding-right: 1em; text-align: center; vertical-align: top\">How can Internet speed be<br>increased by hacking ...</td>\n",
       "        <td style=\"padding-left: 1em; padding-right: 1em; text-align: center; vertical-align: top\">0</td>\n",
       "        <td style=\"padding-left: 1em; padding-right: 1em; text-align: center; vertical-align: top\">[how, can, i, increase,<br>the, speed, of, my, ...</td>\n",
       "    </tr>\n",
       "    <tr>\n",
       "        <td style=\"padding-left: 1em; padding-right: 1em; text-align: center; vertical-align: top\">Why am I mentally very<br>lonely? How can I solve ...</td>\n",
       "        <td style=\"padding-left: 1em; padding-right: 1em; text-align: center; vertical-align: top\">Find the remainder when<br>[math]23^{24}[/math] is ...</td>\n",
       "        <td style=\"padding-left: 1em; padding-right: 1em; text-align: center; vertical-align: top\">0</td>\n",
       "        <td style=\"padding-left: 1em; padding-right: 1em; text-align: center; vertical-align: top\">[why, am, i, mentally,<br>very, lonely, how, can, ...</td>\n",
       "    </tr>\n",
       "    <tr>\n",
       "        <td style=\"padding-left: 1em; padding-right: 1em; text-align: center; vertical-align: top\">Which one dissolve in<br>water quikly sugar, s ...</td>\n",
       "        <td style=\"padding-left: 1em; padding-right: 1em; text-align: center; vertical-align: top\">Which fish would survive<br>in salt water? ...</td>\n",
       "        <td style=\"padding-left: 1em; padding-right: 1em; text-align: center; vertical-align: top\">0</td>\n",
       "        <td style=\"padding-left: 1em; padding-right: 1em; text-align: center; vertical-align: top\">[which, one, dissolve,<br>in, water, quikly, su ...</td>\n",
       "    </tr>\n",
       "</table>\n",
       "<table frame=\"box\" rules=\"cols\">\n",
       "    <tr>\n",
       "        <th style=\"padding-left: 1em; padding-right: 1em; text-align: center\">word_list_no_stops1</th>\n",
       "        <th style=\"padding-left: 1em; padding-right: 1em; text-align: center\">word_list2</th>\n",
       "        <th style=\"padding-left: 1em; padding-right: 1em; text-align: center\">word_list_no_stops2</th>\n",
       "    </tr>\n",
       "    <tr>\n",
       "        <td style=\"padding-left: 1em; padding-right: 1em; text-align: center; vertical-align: top\">[step, step, guide,<br>invest, share, market, ...</td>\n",
       "        <td style=\"padding-left: 1em; padding-right: 1em; text-align: center; vertical-align: top\">[what, is, the, step, by,<br>step, guide, to, invest, ...</td>\n",
       "        <td style=\"padding-left: 1em; padding-right: 1em; text-align: center; vertical-align: top\">[step, step, guide,<br>invest, share, market] ...</td>\n",
       "    </tr>\n",
       "    <tr>\n",
       "        <td style=\"padding-left: 1em; padding-right: 1em; text-align: center; vertical-align: top\">[story, kohinoor, koh,<br>noor, diamond] ...</td>\n",
       "        <td style=\"padding-left: 1em; padding-right: 1em; text-align: center; vertical-align: top\">[what, would, happen, if,<br>the, indian, government, ...</td>\n",
       "        <td style=\"padding-left: 1em; padding-right: 1em; text-align: center; vertical-align: top\">[would, happen, indian,<br>government, stole, ...</td>\n",
       "    </tr>\n",
       "    <tr>\n",
       "        <td style=\"padding-left: 1em; padding-right: 1em; text-align: center; vertical-align: top\">[increase, speed,<br>internet, connection, ...</td>\n",
       "        <td style=\"padding-left: 1em; padding-right: 1em; text-align: center; vertical-align: top\">[how, can, internet,<br>speed, be, increased, ...</td>\n",
       "        <td style=\"padding-left: 1em; padding-right: 1em; text-align: center; vertical-align: top\">[internet, speed,<br>increased, hacking, dns] ...</td>\n",
       "    </tr>\n",
       "    <tr>\n",
       "        <td style=\"padding-left: 1em; padding-right: 1em; text-align: center; vertical-align: top\">[mentally, lonely, solve]</td>\n",
       "        <td style=\"padding-left: 1em; padding-right: 1em; text-align: center; vertical-align: top\">[find, the, remainder,<br>when, math, 23, 24, m ...</td>\n",
       "        <td style=\"padding-left: 1em; padding-right: 1em; text-align: center; vertical-align: top\">[find, remainder, math,<br>23, 24, math, divided, ...</td>\n",
       "    </tr>\n",
       "    <tr>\n",
       "        <td style=\"padding-left: 1em; padding-right: 1em; text-align: center; vertical-align: top\">[one, dissolve, water,<br>quikly, sugar, salt, ...</td>\n",
       "        <td style=\"padding-left: 1em; padding-right: 1em; text-align: center; vertical-align: top\">[which, fish, would,<br>survive, in, salt, wa ...</td>\n",
       "        <td style=\"padding-left: 1em; padding-right: 1em; text-align: center; vertical-align: top\">[fish, would, survive,<br>salt, water] ...</td>\n",
       "    </tr>\n",
       "</table>\n",
       "[5 rows x 7 columns]<br/>\n",
       "</div>"
      ],
      "text/plain": [
       "Columns:\n",
       "\tquestion1\tstr\n",
       "\tquestion2\tstr\n",
       "\tis_duplicate\tint\n",
       "\tword_list1\tlist\n",
       "\tword_list_no_stops1\tlist\n",
       "\tword_list2\tlist\n",
       "\tword_list_no_stops2\tlist\n",
       "\n",
       "Rows: 5\n",
       "\n",
       "Data:\n",
       "+-------------------------------+-------------------------------+--------------+\n",
       "|           question1           |           question2           | is_duplicate |\n",
       "+-------------------------------+-------------------------------+--------------+\n",
       "| What is the step by step g... | What is the step by step g... |      0       |\n",
       "| What is the story of Kohin... | What would happen if the I... |      0       |\n",
       "| How can I increase the spe... | How can Internet speed be ... |      0       |\n",
       "| Why am I mentally very lon... | Find the remainder when [m... |      0       |\n",
       "| Which one dissolve in wate... | Which fish would survive i... |      0       |\n",
       "+-------------------------------+-------------------------------+--------------+\n",
       "+-------------------------------+-------------------------------+\n",
       "|           word_list1          |      word_list_no_stops1      |\n",
       "+-------------------------------+-------------------------------+\n",
       "| [what, is, the, step, by, ... | [step, step, guide, invest... |\n",
       "| [what, is, the, story, of,... | [story, kohinoor, koh, noo... |\n",
       "| [how, can, i, increase, th... | [increase, speed, internet... |\n",
       "| [why, am, i, mentally, ver... |   [mentally, lonely, solve]   |\n",
       "| [which, one, dissolve, in,... | [one, dissolve, water, qui... |\n",
       "+-------------------------------+-------------------------------+\n",
       "+-------------------------------+-------------------------------+\n",
       "|           word_list2          |      word_list_no_stops2      |\n",
       "+-------------------------------+-------------------------------+\n",
       "| [what, is, the, step, by, ... | [step, step, guide, invest... |\n",
       "| [what, would, happen, if, ... | [would, happen, indian, go... |\n",
       "| [how, can, internet, speed... | [internet, speed, increase... |\n",
       "| [find, the, remainder, whe... | [find, remainder, math, 23... |\n",
       "| [which, fish, would, survi... | [fish, would, survive, sal... |\n",
       "+-------------------------------+-------------------------------+\n",
       "[5 rows x 7 columns]"
      ]
     },
     "execution_count": 23,
     "metadata": {},
     "output_type": "execute_result"
    }
   ],
   "source": [
    "result = train['question1'].apply(lambda x : text_to_word_lists(x)).unpack()\n",
    "train.add_columns(result.rename({'X.0' : 'word_list1', 'X.1' : 'word_list_no_stops1'}))\n",
    "\n",
    "result = train['question2'].apply(lambda x : text_to_word_lists(x)).unpack()\n",
    "train.add_columns(result.rename({'X.0' : 'word_list2', 'X.1' : 'word_list_no_stops2'}))\n",
    "\n",
    "train.head(5)"
   ]
  },
  {
   "cell_type": "code",
   "execution_count": 9,
   "metadata": {
    "collapsed": false,
    "deletable": true,
    "editable": true
   },
   "outputs": [
    {
     "data": {
      "text/html": [
       "<div style=\"max-height:1000px;max-width:1500px;overflow:auto;\"><table frame=\"box\" rules=\"cols\">\n",
       "    <tr>\n",
       "        <th style=\"padding-left: 1em; padding-right: 1em; text-align: center\">question1</th>\n",
       "        <th style=\"padding-left: 1em; padding-right: 1em; text-align: center\">question2</th>\n",
       "        <th style=\"padding-left: 1em; padding-right: 1em; text-align: center\">word_list1</th>\n",
       "        <th style=\"padding-left: 1em; padding-right: 1em; text-align: center\">word_list_no_stops1</th>\n",
       "    </tr>\n",
       "    <tr>\n",
       "        <td style=\"padding-left: 1em; padding-right: 1em; text-align: center; vertical-align: top\">How does the Surface Pro<br>himself 4 compare with ...</td>\n",
       "        <td style=\"padding-left: 1em; padding-right: 1em; text-align: center; vertical-align: top\">Why did Microsoft choose<br>core m3 and not core i3 ...</td>\n",
       "        <td style=\"padding-left: 1em; padding-right: 1em; text-align: center; vertical-align: top\">[how, does, the, surface,<br>pro, himself, 4, comp ...</td>\n",
       "        <td style=\"padding-left: 1em; padding-right: 1em; text-align: center; vertical-align: top\">[surface, pro, 4,<br>compare, ipad, pro] ...</td>\n",
       "    </tr>\n",
       "    <tr>\n",
       "        <td style=\"padding-left: 1em; padding-right: 1em; text-align: center; vertical-align: top\">Should I have a hair<br>transplant at age 24? ...</td>\n",
       "        <td style=\"padding-left: 1em; padding-right: 1em; text-align: center; vertical-align: top\">How much cost does hair<br>transplant require? ...</td>\n",
       "        <td style=\"padding-left: 1em; padding-right: 1em; text-align: center; vertical-align: top\">[should, i, have, a,<br>hair, transplant, at, ...</td>\n",
       "        <td style=\"padding-left: 1em; padding-right: 1em; text-align: center; vertical-align: top\">[hair, transplant, age,<br>24, much, would, cost] ...</td>\n",
       "    </tr>\n",
       "    <tr>\n",
       "        <td style=\"padding-left: 1em; padding-right: 1em; text-align: center; vertical-align: top\">What but is the best way<br>to send money from China ...</td>\n",
       "        <td style=\"padding-left: 1em; padding-right: 1em; text-align: center; vertical-align: top\">What you send money to<br>China? ...</td>\n",
       "        <td style=\"padding-left: 1em; padding-right: 1em; text-align: center; vertical-align: top\">[what, but, is, the,<br>best, way, to, send, ...</td>\n",
       "        <td style=\"padding-left: 1em; padding-right: 1em; text-align: center; vertical-align: top\">[best, way, send, money,<br>china, us] ...</td>\n",
       "    </tr>\n",
       "    <tr>\n",
       "        <td style=\"padding-left: 1em; padding-right: 1em; text-align: center; vertical-align: top\">Which food not<br>emulsifiers? ...</td>\n",
       "        <td style=\"padding-left: 1em; padding-right: 1em; text-align: center; vertical-align: top\">What foods fibre?</td>\n",
       "        <td style=\"padding-left: 1em; padding-right: 1em; text-align: center; vertical-align: top\">[which, food, not,<br>emulsifiers] ...</td>\n",
       "        <td style=\"padding-left: 1em; padding-right: 1em; text-align: center; vertical-align: top\">[food, emulsifiers]</td>\n",
       "    </tr>\n",
       "    <tr>\n",
       "        <td style=\"padding-left: 1em; padding-right: 1em; text-align: center; vertical-align: top\">How \"aberystwyth\" start<br>reading? ...</td>\n",
       "        <td style=\"padding-left: 1em; padding-right: 1em; text-align: center; vertical-align: top\">How their can I start<br>reading? ...</td>\n",
       "        <td style=\"padding-left: 1em; padding-right: 1em; text-align: center; vertical-align: top\">[how, aberystwyth, start,<br>reading] ...</td>\n",
       "        <td style=\"padding-left: 1em; padding-right: 1em; text-align: center; vertical-align: top\">[aberystwyth, start,<br>reading] ...</td>\n",
       "    </tr>\n",
       "</table>\n",
       "<table frame=\"box\" rules=\"cols\">\n",
       "    <tr>\n",
       "        <th style=\"padding-left: 1em; padding-right: 1em; text-align: center\">word_list2</th>\n",
       "        <th style=\"padding-left: 1em; padding-right: 1em; text-align: center\">word_list_no_stops2</th>\n",
       "    </tr>\n",
       "    <tr>\n",
       "        <td style=\"padding-left: 1em; padding-right: 1em; text-align: center; vertical-align: top\">[why, did, microsoft,<br>choose, core, m3, and, ...</td>\n",
       "        <td style=\"padding-left: 1em; padding-right: 1em; text-align: center; vertical-align: top\">[microsoft, choose, core,<br>m3, core, i3, home, ...</td>\n",
       "    </tr>\n",
       "    <tr>\n",
       "        <td style=\"padding-left: 1em; padding-right: 1em; text-align: center; vertical-align: top\">[how, much, cost, does,<br>hair, transplant, ...</td>\n",
       "        <td style=\"padding-left: 1em; padding-right: 1em; text-align: center; vertical-align: top\">[much, cost, hair,<br>transplant, require] ...</td>\n",
       "    </tr>\n",
       "    <tr>\n",
       "        <td style=\"padding-left: 1em; padding-right: 1em; text-align: center; vertical-align: top\">[what, you, send, money,<br>to, china] ...</td>\n",
       "        <td style=\"padding-left: 1em; padding-right: 1em; text-align: center; vertical-align: top\">[send, money, china]</td>\n",
       "    </tr>\n",
       "    <tr>\n",
       "        <td style=\"padding-left: 1em; padding-right: 1em; text-align: center; vertical-align: top\">[what, foods, fibre]</td>\n",
       "        <td style=\"padding-left: 1em; padding-right: 1em; text-align: center; vertical-align: top\">[foods, fibre]</td>\n",
       "    </tr>\n",
       "    <tr>\n",
       "        <td style=\"padding-left: 1em; padding-right: 1em; text-align: center; vertical-align: top\">[how, their, can, i,<br>start, reading] ...</td>\n",
       "        <td style=\"padding-left: 1em; padding-right: 1em; text-align: center; vertical-align: top\">[start, reading]</td>\n",
       "    </tr>\n",
       "</table>\n",
       "[5 rows x 6 columns]<br/>\n",
       "</div>"
      ],
      "text/plain": [
       "Columns:\n",
       "\tquestion1\tstr\n",
       "\tquestion2\tstr\n",
       "\tword_list1\tlist\n",
       "\tword_list_no_stops1\tlist\n",
       "\tword_list2\tlist\n",
       "\tword_list_no_stops2\tlist\n",
       "\n",
       "Rows: 5\n",
       "\n",
       "Data:\n",
       "+-------------------------------+--------------------------------+\n",
       "|           question1           |           question2            |\n",
       "+-------------------------------+--------------------------------+\n",
       "| How does the Surface Pro h... | Why did Microsoft choose c...  |\n",
       "| Should I have a hair trans... | How much cost does hair tr...  |\n",
       "| What but is the best way t... | What you send money to China?  |\n",
       "|  Which food not emulsifiers?  |       What foods fibre?        |\n",
       "| How \"aberystwyth\" start re... | How their can I start reading? |\n",
       "+-------------------------------+--------------------------------+\n",
       "+-------------------------------+-------------------------------+\n",
       "|           word_list1          |      word_list_no_stops1      |\n",
       "+-------------------------------+-------------------------------+\n",
       "| [how, does, the, surface, ... | [surface, pro, 4, compare,... |\n",
       "| [should, i, have, a, hair,... | [hair, transplant, age, 24... |\n",
       "| [what, but, is, the, best,... | [best, way, send, money, c... |\n",
       "| [which, food, not, emulsif... |      [food, emulsifiers]      |\n",
       "| [how, aberystwyth, start, ... | [aberystwyth, start, reading] |\n",
       "+-------------------------------+-------------------------------+\n",
       "+-------------------------------+-------------------------------+\n",
       "|           word_list2          |      word_list_no_stops2      |\n",
       "+-------------------------------+-------------------------------+\n",
       "| [why, did, microsoft, choo... | [microsoft, choose, core, ... |\n",
       "| [how, much, cost, does, ha... | [much, cost, hair, transpl... |\n",
       "| [what, you, send, money, t... |      [send, money, china]     |\n",
       "|      [what, foods, fibre]     |         [foods, fibre]        |\n",
       "| [how, their, can, i, start... |        [start, reading]       |\n",
       "+-------------------------------+-------------------------------+\n",
       "[5 rows x 6 columns]"
      ]
     },
     "execution_count": 9,
     "metadata": {},
     "output_type": "execute_result"
    }
   ],
   "source": [
    "result = test['question1'].apply(lambda x : text_to_word_lists(x)).unpack()\n",
    "test.add_columns(result.rename({'X.0' : 'word_list1', 'X.1' : 'word_list_no_stops1'}))\n",
    "\n",
    "result = test['question2'].apply(lambda x : text_to_word_lists(x)).unpack()\n",
    "test.add_columns(result.rename({'X.0' : 'word_list2', 'X.1' : 'word_list_no_stops2'}))\n",
    "\n",
    "test.head(5)"
   ]
  },
  {
   "cell_type": "code",
   "execution_count": 10,
   "metadata": {
    "collapsed": true,
    "deletable": true,
    "editable": true
   },
   "outputs": [],
   "source": [
    "train[['is_duplicate']].save('target', format = 'csv')\n",
    "ids.save('ids', format = 'csv')"
   ]
  },
  {
   "cell_type": "code",
   "execution_count": 11,
   "metadata": {
    "collapsed": true,
    "deletable": true,
    "editable": true
   },
   "outputs": [],
   "source": [
    "# train[['question1',           'question2',\n",
    "#        'word_list1',          'word_list2',\n",
    "#        'word_list_no_stops1', 'word_list_no_stops2']].save('train_lists.gl')"
   ]
  },
  {
   "cell_type": "code",
   "execution_count": 12,
   "metadata": {
    "collapsed": true,
    "deletable": true,
    "editable": true
   },
   "outputs": [],
   "source": [
    "# test[['question1',           'question2',\n",
    "#       'word_list1',          'word_list2',\n",
    "#       'word_list_no_stops1', 'word_list_no_stops2']].save('test_lists.gl')"
   ]
  },
  {
   "cell_type": "code",
   "execution_count": null,
   "metadata": {
    "collapsed": true,
    "deletable": true,
    "editable": true
   },
   "outputs": [],
   "source": []
  }
 ],
 "metadata": {
  "kernelspec": {
   "display_name": "Python 2",
   "language": "python",
   "name": "python2"
  },
  "language_info": {
   "codemirror_mode": {
    "name": "ipython",
    "version": 2
   },
   "file_extension": ".py",
   "mimetype": "text/x-python",
   "name": "python",
   "nbconvert_exporter": "python",
   "pygments_lexer": "ipython2",
   "version": "2.7.12"
  }
 },
 "nbformat": 4,
 "nbformat_minor": 1
}
